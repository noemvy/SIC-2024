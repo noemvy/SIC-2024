{
 "cells": [
  {
   "cell_type": "code",
   "execution_count": 1,
   "id": "5274422c-ecb2-4add-89b5-43e4265ead20",
   "metadata": {},
   "outputs": [
    {
     "name": "stdout",
     "output_type": "stream",
     "text": [
      "3.9.7 (default, Sep 16 2021, 16:59:28) [MSC v.1916 64 bit (AMD64)]\n"
     ]
    }
   ],
   "source": [
    "import sys\n",
    "print (sys.version)"
   ]
  },
  {
   "cell_type": "code",
   "execution_count": 2,
   "id": "4586d5e0-e429-4ff6-a629-a92354a0a743",
   "metadata": {},
   "outputs": [
    {
     "name": "stdout",
     "output_type": "stream",
     "text": [
      "C:\\Users\\noemi\\SIC-2024\\P04\\Verificacion\n"
     ]
    }
   ],
   "source": [
    "import pathlib\n",
    "print(pathlib.Path(\"verificacion\").parent.absolute())"
   ]
  },
  {
   "cell_type": "code",
   "execution_count": 5,
   "id": "0553279e-757b-4178-92e1-170f5cf92718",
   "metadata": {},
   "outputs": [
    {
     "name": "stdout",
     "output_type": "stream",
     "text": [
      "hola\n"
     ]
    }
   ],
   "source": [
    "hola = \"hola\"\n",
    "print (hola)"
   ]
  },
  {
   "cell_type": "code",
   "execution_count": null,
   "id": "b3f67e76-83e1-4399-976d-20d5401d7ccb",
   "metadata": {},
   "outputs": [],
   "source": []
  }
 ],
 "metadata": {
  "kernelspec": {
   "display_name": "Python 3 (ipykernel)",
   "language": "python",
   "name": "python3"
  },
  "language_info": {
   "codemirror_mode": {
    "name": "ipython",
    "version": 3
   },
   "file_extension": ".py",
   "mimetype": "text/x-python",
   "name": "python",
   "nbconvert_exporter": "python",
   "pygments_lexer": "ipython3",
   "version": "3.9.7"
  }
 },
 "nbformat": 4,
 "nbformat_minor": 5
}
